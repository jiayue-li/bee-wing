{
 "cells": [
  {
   "cell_type": "code",
   "execution_count": 7,
   "metadata": {
    "collapsed": false
   },
   "outputs": [],
   "source": [
    "import sys\n",
    "sys.path.insert(0, './preprocessing')\n",
    "sys.path.insert(0, './feature_extraction')\n",
    "sys.path.insert(0, './classification')\n",
    "import preprocess_image\n",
    "# import the python file used for feature extraction\n",
    "import random_forest_classifier"
   ]
  },
  {
   "cell_type": "code",
   "execution_count": null,
   "metadata": {
    "collapsed": true
   },
   "outputs": [],
   "source": [
    "\n",
    "\"\"\"\n",
    "Preprocess the bee wing raw images. \n",
    "Extract the features from preprocessed bee wing image. \n",
    "Train a Random Forest Classifier using extracted features.\n",
    "\n",
    "options:\n",
    "    -r raw_image_path : the path for input path for raw image\n",
    "    -o output_csv_name : the name for output features information csv file\n",
    "    -tr train_ratio : the training ratio for machine learning algorithm\n",
    "    -lr learning rate : the learning rate for machine learning algorithm\n",
    "    -h hyper : hyperparameter for algorithm\n",
    "\"\"\"\n",
    "\n",
    "try:\n",
    "    opts, _ = getopt.getopt(sys.argv[1:], 'r:o:tr:', ['raw_image_path=', 'output_csv_name=', 'train_ratio='])\n",
    "except getopt.GetoptError:\n",
    "    sys.exit(2)\n",
    "\n",
    "for opt, arg in opts:\n",
    "    if opt in ('-r', '--raw_image_path'):\n",
    "        raw_image_path = arg\n",
    "    if opt in ('-o', '--output_csv_name'):\n",
    "        features_datafile = arg\n",
    "    if opt in ('-tr', '--train_ratio'):\n",
    "        train_ratio = arg\n",
    "#     raw_image_path = \"../raw_image\"\n",
    "#     features_datafile = 'bee_info.csv'\n",
    "#     train_ratio = 0.8\n",
    "\n",
    "\n",
    "# Proprocess Imgae\n",
    "preprocess_raw_image(path)\n",
    "\n",
    "# Feature extraction\n",
    "\n",
    "\n",
    "# For Classifcation\n",
    "random_forest_classifier(features_datafile, train_ratio)"
   ]
  }
 ],
 "metadata": {
  "anaconda-cloud": {},
  "kernelspec": {
   "display_name": "Python [conda root]",
   "language": "python",
   "name": "conda-root-py"
  },
  "language_info": {
   "codemirror_mode": {
    "name": "ipython",
    "version": 3
   },
   "file_extension": ".py",
   "mimetype": "text/x-python",
   "name": "python",
   "nbconvert_exporter": "python",
   "pygments_lexer": "ipython3",
   "version": "3.5.5"
  }
 },
 "nbformat": 4,
 "nbformat_minor": 1
}
