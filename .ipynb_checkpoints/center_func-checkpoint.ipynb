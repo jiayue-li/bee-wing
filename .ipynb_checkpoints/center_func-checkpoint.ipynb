{
 "cells": [
  {
   "cell_type": "code",
   "execution_count": 3,
   "metadata": {},
   "outputs": [
    {
     "name": "stderr",
     "output_type": "stream",
     "text": [
      "/Library/Frameworks/Python.framework/Versions/3.6/lib/python3.6/site-packages/skimage/util/dtype.py:122: UserWarning: Possible precision loss when converting from float64 to uint8\n",
      "  .format(dtypeobj_in, dtypeobj_out))\n"
     ]
    },
    {
     "name": "stdout",
     "output_type": "stream",
     "text": [
      "Preprocessed Image\n",
      "Number of Regions:  13\n",
      "Filtered Regions:  10\n"
     ]
    },
    {
     "data": {
      "image/png": "[encoded data removed]",
      "text/plain": [
       "<matplotlib.figure.Figure at 0x1140d6ef0>"
      ]
     },
     "metadata": {},
     "output_type": "display_data"
    },
    {
     "name": "stdout",
     "output_type": "stream",
     "text": [
      "Center of Regions: \n"
     ]
    },
    {
     "data": {
      "image/png": "[encoded data removed]",
      "text/plain": [
       "<matplotlib.figure.Figure at 0x1148007f0>"
      ]
     },
     "metadata": {},
     "output_type": "display_data"
    },
    {
     "name": "stdout",
     "output_type": "stream",
     "text": [
      "Distance, Scaled: \n",
      " [1.4735490075826143, 0.93853334939175559, 1.8520322143483763, 0.54938075305914524, 0.078873389896697607, 0.91112688794611663, 0.68960131574420791, 0.993504771303791, 1.2820626322456785, 1.2313356784816172]\n",
      "Area, Scaled: \n",
      " [0.81969325944064964, 1.0613481118700865, 1.1380332517076943, 1.06263693774971, 1.6252094342054388, 0.75589637839927826, 0.68243330326072948, 0.84353653821368735, 0.7281866219873695, 1.2830261631653563]\n"
     ]
    },
    {
     "data": {
      "image/png": "[encoded data removed]",
      "text/plain": [
       "<matplotlib.figure.Figure at 0x105918588>"
      ]
     },
     "metadata": {},
     "output_type": "display_data"
    }
   ],
   "source": [
    "import numpy as np\n",
    "from skimage.morphology import skeletonize, medial_axis, watershed, disk\n",
    "from skimage import data\n",
    "from scipy import ndimage as ndi\n",
    "from scipy.spatial import distance\n",
    "import matplotlib.pyplot as plt\n",
    "from skimage.util import invert\n",
    "from skimage.io import imshow, imread\n",
    "from skimage.color import rgb2gray\n",
    "from skimage.feature import peak_local_max, canny\n",
    "from scipy import ndimage\n",
    "from skimage.filters import sobel\n",
    "from skimage.measure import label, regionprops\n",
    "from skimage.filters import rank\n",
    "\n",
    "%matplotlib inline\n",
    "import numpy as np\n",
    "from skimage import io\n",
    "from skimage.feature import canny\n",
    "from scipy import ndimage as ndi\n",
    "import matplotlib.pyplot as plt\n",
    "from skimage.morphology import watershed, disk\n",
    "from skimage.filters import rank\n",
    "from skimage.util import img_as_ubyte\n",
    "from skimage import segmentation\n",
    "np.set_printoptions(threshold=np.nan)\n",
    "import math, skimage\n",
    "from skimage import morphology\n",
    "from skimage.measure import label, regionprops\n",
    "from skimage.feature import corner_harris, corner_subpix, corner_peaks\n",
    "\n",
    "def centroid(image):\n",
    "    img = imread(image)[:,:,0]\n",
    "    img = skimage.transform.rotate(img, 90)\n",
    "    denoised = rank.median(img, disk(2))\n",
    "    markers = rank.gradient(denoised, disk(5)) < 10\n",
    "    markers = ndi.label(markers)[0]\n",
    "    gradient = rank.gradient(denoised, disk(2))\n",
    "    labels = watershed(gradient, markers)\n",
    "    cleared = segmentation.clear_border(labels)\n",
    "    imshow(img)\n",
    "    print(\"Preprocessed Image\")\n",
    "    denoised = rank.median(img, disk(2))\n",
    "    gradient = rank.gradient(denoised, disk(5))\n",
    "    thres = 30\n",
    "    gradient[gradient > thres] = 255\n",
    "\n",
    "    imshow(gradient)\n",
    "    labeled_wing = cleared\n",
    "    regions = regionprops(labeled_wing)\n",
    "    print(\"Number of Regions: \", len(regions))\n",
    "    implot = plt.imshow(cleared)\n",
    "\n",
    "    #Filters regions based on area\n",
    "    filtered_regions = []\n",
    "    filtered_regions_area = []\n",
    "    for props in regions:\n",
    "        area = props.area\n",
    "    #     print([500, 600] in props.coords)\n",
    "        if area>1000 and area<400000:\n",
    "            filtered_regions.append(props)\n",
    "            filtered_regions_area.append(area)\n",
    "    print(\"Filtered Regions: \", len(filtered_regions))\n",
    "\n",
    "    #Plots centroids of regions\n",
    "    for region in filtered_regions:\n",
    "        y0, x0 = region.centroid\n",
    "        plt.scatter([x0], [y0])\n",
    "    plt.title(\"Filtered Regions, Plotted Centroids\")\n",
    "    plt.show()\n",
    "    #Finds the centroid of all the region centers\n",
    "    # sum_x, sum_y = 0, 0\n",
    "    centroids = []\n",
    "    centroids_x = []\n",
    "    centroids_y = []\n",
    "    for region in filtered_regions:\n",
    "        y0, x0 = region.centroid\n",
    "        region_centroid = (x0, y0)\n",
    "        centroids.append(region_centroid)\n",
    "        centroids_x.append(x0)\n",
    "        centroids_y.append(y0)\n",
    "    #     sum_x += x0\n",
    "    #     sum_y += y0\n",
    "    # avg_x = sum_x/len(filtered_regions)\n",
    "    # avg_y = sum_y/len(filtered_regions)\n",
    "    avg_x = np.mean(centroids_x)\n",
    "    avg_y = np.mean(centroids_y)\n",
    "\n",
    "    print(\"Center of Regions: \")\n",
    "    implot = plt.imshow(labeled_wing)\n",
    "    plt.scatter([avg_x], [avg_y], marker=\"x\")\n",
    "    plt.title(\"Center of Regions: \")\n",
    "    plt.show()\n",
    "    \n",
    "    #Calculates the distance between each centroid to the center\n",
    "    # implot = plt.imshow(labeled_wing)\n",
    "    distances_from_center = []\n",
    "    for centroid in centroids:\n",
    "        distances_from_center.append(distance.euclidean(centroid, (avg_x, avg_y)))\n",
    "    # min_dist_centroid = centroids[distances_from_center.index(min(distances_from_center))]\n",
    "    # plt.scatter([min_dist_centroid[0]], [min_dist_centroid[1]])\n",
    "\n",
    "    #Normalizes distances from center\n",
    "    distance_sd = np.std(distances_from_center)\n",
    "    distance_mean = np.mean(distances_from_center)\n",
    "    # print(\"Distance Average\", distance_mean, \"Distance Standard Dev\", distance_sd)\n",
    "    dist_from_cent_norm = [dist_from_center/distance_mean for dist_from_center in distances_from_center]\n",
    "    print(\"Distance, Scaled: \\n\", dist_from_cent_norm)\n",
    "\n",
    "    #Normalizes areas \n",
    "    area_sd = np.std(filtered_regions_area)\n",
    "    area_mean = np.mean(filtered_regions_area)\n",
    "    area_norm = [area/area_mean for area in filtered_regions_area ]\n",
    "    print(\"Area, Scaled: \\n\", area_norm)\n",
    "    \n",
    "    \n",
    "    #Weights each region centroid based on distance to the center, and size\n",
    "    implot = plt.imshow(labeled_wing)\n",
    "    distance_weight = 1\n",
    "    size_weight = 0.3\n",
    "\n",
    "    weighted_values = []\n",
    "    for i in range(len(filtered_regions)):\n",
    "        weighted_values.append(size_weight*area_norm[i] - distance_weight*dist_from_cent_norm[i])\n",
    "\n",
    "    max_index = weighted_values.index(max(weighted_values))\n",
    "    center_cell = filtered_regions[max_index]\n",
    "    # plt.scatter([centroids[max_index][0]], [centroids[max_index][1]])\n",
    "    center_cell_x, center_cell_y = center_cell.centroid[1], center_cell.centroid[0]\n",
    "    plt.scatter([center_cell_x], [center_cell_y])\n",
    "\n",
    "centroid(\"enhanced_image/060 Lasioglossum nymphaerum f left 4x.jpg\")"
   ]
  },
  {
   "cell_type": "code",
   "execution_count": null,
   "metadata": {},
   "outputs": [],
   "source": []
  }
 ],
 "metadata": {
  "kernelspec": {
   "display_name": "Python 3",
   "language": "python",
   "name": "python3"
  },
  "language_info": {
   "codemirror_mode": {
    "name": "ipython",
    "version": 3
   },
   "file_extension": ".py",
   "mimetype": "text/x-python",
   "name": "python",
   "nbconvert_exporter": "python",
   "pygments_lexer": "ipython3",
   "version": "3.6.1"
  }
 },
 "nbformat": 4,
 "nbformat_minor": 2
}
